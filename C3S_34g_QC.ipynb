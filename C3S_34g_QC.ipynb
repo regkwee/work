{
 "cells": [
  {
   "cell_type": "markdown",
   "metadata": {},
   "source": [
    "# Persistent identifiers and associated information"
   ]
  },
  {
   "cell_type": "code",
   "execution_count": null,
   "metadata": {},
   "outputs": [],
   "source": [
    "# PyHandleClient Library developed by DKRZ and maintained as part of EUDAT and EOSC\n",
    "# https://github.com/EUDAT-B2SAFE/PYHANDLE\n",
    "from pyhandle.handleclient import PyHandleClient\n",
    "from pprint import pprint\n",
    "client = PyHandleClient('rest')"
   ]
  },
  {
   "cell_type": "code",
   "execution_count": 2,
   "metadata": {},
   "outputs": [],
   "source": [
    "tracking_id = \"21.14100/1fe581d0-0c10-328d-8b78-941834e09b19\"\n",
    "result = client.retrieve_handle_record_json(tracking_id)"
   ]
  },
  {
   "cell_type": "code",
   "execution_count": 4,
   "metadata": {},
   "outputs": [
    {
     "name": "stdout",
     "output_type": "stream",
     "text": [
      "{'handle': '21.14100/1fe581d0-0c10-328d-8b78-941834e09b19',\n",
      " 'responseCode': 1,\n",
      " 'values': [{'data': {'format': 'string',\n",
      "                      'value': 'https://handle-esgf.dkrz.de/lp/21.14100/1fe581d0-0c10-328d-8b78-941834e09b19'},\n",
      "             'index': 1,\n",
      "             'timestamp': '2019-08-05T10:21:43Z',\n",
      "             'ttl': 86400,\n",
      "             'type': 'URL'},\n",
      "            {'data': {'format': 'string', 'value': 'DATASET'},\n",
      "             'index': 2,\n",
      "             'timestamp': '2019-08-05T10:21:43Z',\n",
      "             'ttl': 86400,\n",
      "             'type': 'AGGREGATION_LEVEL'},\n",
      "            {'data': {'format': 'string', 'value': 'TRUE'},\n",
      "             'index': 3,\n",
      "             'timestamp': '2019-08-05T10:21:43Z',\n",
      "             'ttl': 86400,\n",
      "             'type': 'FIXED_CONTENT'},\n",
      "            {'data': {'format': 'string',\n",
      "                      'value': 'CMIP6.ScenarioMIP.DKRZ.MPI-ESM1-2-HR.ssp126.r1i1p1f1.6hrPlev.hurs.gn'},\n",
      "             'index': 4,\n",
      "             'timestamp': '2019-08-05T10:21:43Z',\n",
      "             'ttl': 86400,\n",
      "             'type': 'DRS_ID'},\n",
      "            {'data': {'format': 'string',\n",
      "                      'value': 'hdl:21.14100/a8b8b1c5-65c0-480c-a883-8203ad2d1fa3;hdl:21.14100/bdfc981d-b266-4e56-a585-fededee2491b;hdl:21.14100/2eeb1d2b-ba42-436e-97f0-3be36eceedf3;hdl:21.14100/4f61395b-594a-4c44-b143-ce568a695fbb;hdl:21.14100/e3f7a4ab-4c7f-4c4e-9888-54650bd1ab43;hdl:21.14100/beef3595-1af9-4a44-8d2b-567f70dcf167;hdl:21.14100/be461bd1-5c0b-436b-92b2-c63df59beba9;hdl:21.14100/e5654e73-ae29-4415-9f7f-89a6f011cbf7;hdl:21.14100/4689521f-125e-44a5-9597-48acba0200da;hdl:21.14100/389adea2-eebc-4b53-a514-76a076caa71f;hdl:21.14100/4bbfe768-9a54-446c-bf69-ac7152a52c34;hdl:21.14100/f2d6e3d5-7833-4183-a0e8-6c95f75a4d43;hdl:21.14100/037af37c-ae31-42a3-ba4e-b312da540284;hdl:21.14100/2c623c7c-83b5-4537-b124-32ac109b04f1;hdl:21.14100/b9a4ebd1-a93c-4c47-8c4d-dab126ca63ee;hdl:21.14100/cab5c6bd-16a1-4483-a86f-19a82a76afc4;hdl:21.14100/83f25c0a-5f51-408d-bb9c-70b097a19875;hdl:21.14100/ff940fcb-aa49-4920-a5fe-80986ee27f7d'},\n",
      "             'index': 5,\n",
      "             'timestamp': '2019-08-05T10:21:43Z',\n",
      "             'ttl': 86400,\n",
      "             'type': 'HAS_PARTS'},\n",
      "            {'data': {'format': 'string', 'value': '20190710'},\n",
      "             'index': 6,\n",
      "             'timestamp': '2019-08-05T10:21:43Z',\n",
      "             'ttl': 86400,\n",
      "             'type': 'VERSION_NUMBER'},\n",
      "            {'data': {'format': 'string',\n",
      "                      'value': 'hdl:21.14100/f7d7283c-2544-31d9-acb4-29afb9f24d1d'},\n",
      "             'index': 7,\n",
      "             'timestamp': '2020-02-06T10:19:15Z',\n",
      "             'ttl': 86400,\n",
      "             'type': 'REPLACED_BY'},\n",
      "            {'data': {'format': 'string',\n",
      "                      'value': '<locations><location '\n",
      "                               'publishedOn=\"2019-10-07T18:20:01.799+00:00\" '\n",
      "                               'host=\"aims3.llnl.gov\" /></locations>'},\n",
      "             'index': 8,\n",
      "             'timestamp': '2020-02-27T00:15:11Z',\n",
      "             'ttl': 86400,\n",
      "             'type': 'REPLICA_NODE'},\n",
      "            {'data': {'format': 'string',\n",
      "                      'value': '6e4b3561-bd64-d755-a01f-7235eaab5353'},\n",
      "             'index': 9,\n",
      "             'timestamp': '2020-01-15T13:08:49Z',\n",
      "             'ttl': 86400,\n",
      "             'type': 'ERRATA_IDS'},\n",
      "            {'data': {'format': 'string',\n",
      "                      'value': '6e4b3561-bd64-d755-a01f-7235eaab5353###2020-01-15T13:09:13.399+00:00'},\n",
      "             'index': 10,\n",
      "             'timestamp': '2020-01-15T13:08:49Z',\n",
      "             'ttl': 86400,\n",
      "             'type': '_ADDED_ERRATA_IDS'},\n",
      "            {'data': {'format': 'string',\n",
      "                      'value': 'esgf3.dkrz.de###2020-02-06T06:52:56.609+00:00;esgf3.dkrz.de###2020-02-06T14:52:03.967+00:00;esgf-data3.ceda.ac.uk###2020-02-27T00:15:10.946+00:00'},\n",
      "             'index': 11,\n",
      "             'timestamp': '2020-02-27T00:15:11Z',\n",
      "             'ttl': 86400,\n",
      "             'type': '_REMOVED_HOSTS'},\n",
      "            {'data': {'format': 'string',\n",
      "                      'value': '<locations><location '\n",
      "                               'publishedOn=\"2020-02-06T06:52:56.609+00:00\" '\n",
      "                               'host=\"esgf3.dkrz.de\" /></locations>'},\n",
      "             'index': 12,\n",
      "             'timestamp': '2020-02-06T06:52:58Z',\n",
      "             'ttl': 86400,\n",
      "             'type': 'UNPUBLISHED_ORIGINALS'},\n",
      "            {'data': {'format': 'string',\n",
      "                      'value': '<locations><location '\n",
      "                               'publishedOn=\"2020-02-27T00:15:10.946+00:00\" '\n",
      "                               'host=\"esgf-data3.ceda.ac.uk\" /></locations>'},\n",
      "             'index': 13,\n",
      "             'timestamp': '2020-02-27T00:15:11Z',\n",
      "             'ttl': 86400,\n",
      "             'type': 'UNPUBLISHED_REPLICAS'},\n",
      "            {'data': {'format': 'admin',\n",
      "                      'value': {'handle': '21.14100/ADMINLIST',\n",
      "                                'index': 200,\n",
      "                                'permissions': '111111111111'}},\n",
      "             'index': 100,\n",
      "             'timestamp': '2019-08-05T10:21:43Z',\n",
      "             'ttl': 86400,\n",
      "             'type': 'HS_ADMIN'}]}\n"
     ]
    }
   ],
   "source": [
    "pprint(result)"
   ]
  },
  {
   "cell_type": "markdown",
   "metadata": {},
   "source": [
    "## QC information management in json manifest files\n",
    "\n",
    "QC information is managed in json files with PIDs as key entries\n",
    "\n",
    "this allows for easy manipulation and flexible tools to ingest in any QC storage backends "
   ]
  },
  {
   "cell_type": "markdown",
   "metadata": {},
   "source": [
    "### direct interchange between json manifest files and python dictionaries"
   ]
  },
  {
   "cell_type": "code",
   "execution_count": 5,
   "metadata": {},
   "outputs": [],
   "source": [
    "import json"
   ]
  },
  {
   "cell_type": "code",
   "execution_count": 15,
   "metadata": {},
   "outputs": [
    {
     "name": "stdout",
     "output_type": "stream",
     "text": [
      "{\n",
      "   \"21.14100/1fe581d0-0c10-328d-8b78-941834e09b19\": {\n",
      "      \"dset_id\": \"CMIP6.ScenarioMIP.DKRZ.MPI-ESM1-2-HR.ssp126.r1i1p1f1.6hrPlev.hurs.gn\",\n",
      "      \"qc_date\": \"21.04.2020\",\n",
      "      \"qc_status\": \"Warning\",\n",
      "      \"qc_message\": \"Wrong FillValue\",\n",
      "      \"prepare_category\": \"Minor Issue\"\n",
      "   }\n",
      "}\n"
     ]
    }
   ],
   "source": [
    "# python dict to json\n",
    "c3s_qc_prepare = {}\n",
    "c3s_qc_prepare[\"21.14100/1fe581d0-0c10-328d-8b78-941834e09b19\"] = {\n",
    "    \"dset_id\": \"CMIP6.ScenarioMIP.DKRZ.MPI-ESM1-2-HR.ssp126.r1i1p1f1.6hrPlev.hurs.gn\",\n",
    "    \"qc_date\": \"21.04.2020\",\n",
    "    \"qc_status\": \"Warning\",\n",
    "    \"qc_message\": \"Wrong FillValue\",\n",
    "    \"prepare_category\":\"Minor Issue\"\n",
    "}\n",
    "\n",
    "c3s_json = json.dumps(c3s_qc_prepare,indent=3)\n",
    "print(c3s_json)\n"
   ]
  },
  {
   "cell_type": "markdown",
   "metadata": {},
   "source": [
    "## Using pandas dataframes to visualize and search in manifest files"
   ]
  },
  {
   "cell_type": "code",
   "execution_count": 14,
   "metadata": {},
   "outputs": [],
   "source": [
    "import pandas as pd"
   ]
  },
  {
   "cell_type": "code",
   "execution_count": 16,
   "metadata": {},
   "outputs": [],
   "source": [
    "tst = pd.read_json(c3s_json)"
   ]
  },
  {
   "cell_type": "code",
   "execution_count": 17,
   "metadata": {},
   "outputs": [
    {
     "data": {
      "text/html": [
       "<div>\n",
       "<style scoped>\n",
       "    .dataframe tbody tr th:only-of-type {\n",
       "        vertical-align: middle;\n",
       "    }\n",
       "\n",
       "    .dataframe tbody tr th {\n",
       "        vertical-align: top;\n",
       "    }\n",
       "\n",
       "    .dataframe thead th {\n",
       "        text-align: right;\n",
       "    }\n",
       "</style>\n",
       "<table border=\"1\" class=\"dataframe\">\n",
       "  <thead>\n",
       "    <tr style=\"text-align: right;\">\n",
       "      <th></th>\n",
       "      <th>21.14100/1fe581d0-0c10-328d-8b78-941834e09b19</th>\n",
       "    </tr>\n",
       "  </thead>\n",
       "  <tbody>\n",
       "    <tr>\n",
       "      <th>dset_id</th>\n",
       "      <td>CMIP6.ScenarioMIP.DKRZ.MPI-ESM1-2-HR.ssp126.r1...</td>\n",
       "    </tr>\n",
       "    <tr>\n",
       "      <th>prepare_category</th>\n",
       "      <td>Minor Issue</td>\n",
       "    </tr>\n",
       "    <tr>\n",
       "      <th>qc_date</th>\n",
       "      <td>21.04.2020</td>\n",
       "    </tr>\n",
       "    <tr>\n",
       "      <th>qc_message</th>\n",
       "      <td>Wrong FillValue</td>\n",
       "    </tr>\n",
       "    <tr>\n",
       "      <th>qc_status</th>\n",
       "      <td>Warning</td>\n",
       "    </tr>\n",
       "  </tbody>\n",
       "</table>\n",
       "</div>"
      ],
      "text/plain": [
       "                      21.14100/1fe581d0-0c10-328d-8b78-941834e09b19\n",
       "dset_id           CMIP6.ScenarioMIP.DKRZ.MPI-ESM1-2-HR.ssp126.r1...\n",
       "prepare_category                                        Minor Issue\n",
       "qc_date                                                  21.04.2020\n",
       "qc_message                                          Wrong FillValue\n",
       "qc_status                                                   Warning"
      ]
     },
     "execution_count": 17,
     "metadata": {},
     "output_type": "execute_result"
    }
   ],
   "source": [
    "tst"
   ]
  },
  {
   "cell_type": "markdown",
   "metadata": {},
   "source": [
    "## Example manifest files\n",
    "\n",
    "instead of collecting information in one complex and large json file, the information is\n",
    "partitioned into separate manifest files, one manifest file per QC information source (e.g. CF check, PrePARE check, Errata, ESMVal, ..)\n",
    "\n",
    "The manifest files are consistently managed in a github repository "
   ]
  },
  {
   "cell_type": "markdown",
   "metadata": {},
   "source": [
    "### CF check manifest files"
   ]
  },
  {
   "cell_type": "code",
   "execution_count": 23,
   "metadata": {},
   "outputs": [],
   "source": [
    "cf_m = {}\n",
    "cf_m[\"21.14100/1fe581d0-0c10-328d-8b78-941834e09b19\"]= {\n",
    "    \"qc_date\": \"....\",\n",
    "    \"cf_error_code\": \"cf doc section 4.1 violation\",\n",
    "    \"cf_status\": \"Warning\"\n",
    "}\n"
   ]
  },
  {
   "cell_type": "code",
   "execution_count": 25,
   "metadata": {},
   "outputs": [
    {
     "data": {
      "text/html": [
       "<div>\n",
       "<style scoped>\n",
       "    .dataframe tbody tr th:only-of-type {\n",
       "        vertical-align: middle;\n",
       "    }\n",
       "\n",
       "    .dataframe tbody tr th {\n",
       "        vertical-align: top;\n",
       "    }\n",
       "\n",
       "    .dataframe thead th {\n",
       "        text-align: right;\n",
       "    }\n",
       "</style>\n",
       "<table border=\"1\" class=\"dataframe\">\n",
       "  <thead>\n",
       "    <tr style=\"text-align: right;\">\n",
       "      <th></th>\n",
       "      <th>21.14100/1fe581d0-0c10-328d-8b78-941834e09b19</th>\n",
       "    </tr>\n",
       "  </thead>\n",
       "  <tbody>\n",
       "    <tr>\n",
       "      <th>cf_error_code</th>\n",
       "      <td>cf doc section 4.1 violation</td>\n",
       "    </tr>\n",
       "    <tr>\n",
       "      <th>cf_status</th>\n",
       "      <td>Warning</td>\n",
       "    </tr>\n",
       "    <tr>\n",
       "      <th>qc_date</th>\n",
       "      <td>....</td>\n",
       "    </tr>\n",
       "  </tbody>\n",
       "</table>\n",
       "</div>"
      ],
      "text/plain": [
       "              21.14100/1fe581d0-0c10-328d-8b78-941834e09b19\n",
       "cf_error_code                  cf doc section 4.1 violation\n",
       "cf_status                                           Warning\n",
       "qc_date                                                ...."
      ]
     },
     "execution_count": 25,
     "metadata": {},
     "output_type": "execute_result"
    }
   ],
   "source": [
    "pd.DataFrame(cf_m)"
   ]
  },
  {
   "cell_type": "markdown",
   "metadata": {},
   "source": [
    "### PrePARE manifest files"
   ]
  },
  {
   "cell_type": "code",
   "execution_count": 26,
   "metadata": {},
   "outputs": [],
   "source": [
    "prepare_m = {}\n",
    "prepare_m[\"21.14100/1fe581d0-0c10-328d-8b78-941834e09b19\"]= {\n",
    "    \"qc_date\": \"....\",\n",
    "    \"pr_error_code\": \"cf doc section 4.1 violation\",\n",
    "    \"pr_status\": \"Warning\"\n",
    "}"
   ]
  },
  {
   "cell_type": "code",
   "execution_count": 27,
   "metadata": {},
   "outputs": [
    {
     "data": {
      "text/html": [
       "<div>\n",
       "<style scoped>\n",
       "    .dataframe tbody tr th:only-of-type {\n",
       "        vertical-align: middle;\n",
       "    }\n",
       "\n",
       "    .dataframe tbody tr th {\n",
       "        vertical-align: top;\n",
       "    }\n",
       "\n",
       "    .dataframe thead th {\n",
       "        text-align: right;\n",
       "    }\n",
       "</style>\n",
       "<table border=\"1\" class=\"dataframe\">\n",
       "  <thead>\n",
       "    <tr style=\"text-align: right;\">\n",
       "      <th></th>\n",
       "      <th>21.14100/1fe581d0-0c10-328d-8b78-941834e09b19</th>\n",
       "    </tr>\n",
       "  </thead>\n",
       "  <tbody>\n",
       "    <tr>\n",
       "      <th>cf_error_code</th>\n",
       "      <td>cf doc section 4.1 violation</td>\n",
       "    </tr>\n",
       "    <tr>\n",
       "      <th>cf_status</th>\n",
       "      <td>Warning</td>\n",
       "    </tr>\n",
       "    <tr>\n",
       "      <th>qc_date</th>\n",
       "      <td>....</td>\n",
       "    </tr>\n",
       "  </tbody>\n",
       "</table>\n",
       "</div>"
      ],
      "text/plain": [
       "              21.14100/1fe581d0-0c10-328d-8b78-941834e09b19\n",
       "cf_error_code                  cf doc section 4.1 violation\n",
       "cf_status                                           Warning\n",
       "qc_date                                                ...."
      ]
     },
     "execution_count": 27,
     "metadata": {},
     "output_type": "execute_result"
    }
   ],
   "source": [
    "pd.DataFrame(cf_m)"
   ]
  },
  {
   "cell_type": "markdown",
   "metadata": {},
   "source": [
    "### ESMVal manifest files"
   ]
  },
  {
   "cell_type": "code",
   "execution_count": null,
   "metadata": {},
   "outputs": [],
   "source": []
  },
  {
   "cell_type": "markdown",
   "metadata": {},
   "source": [
    "### DDC (DOI etc.) related manifest files ?"
   ]
  },
  {
   "cell_type": "code",
   "execution_count": null,
   "metadata": {},
   "outputs": [],
   "source": []
  }
 ],
 "metadata": {
  "kernelspec": {
   "display_name": "Python 3",
   "language": "python",
   "name": "python3"
  },
  "language_info": {
   "codemirror_mode": {
    "name": "ipython",
    "version": 3
   },
   "file_extension": ".py",
   "mimetype": "text/x-python",
   "name": "python",
   "nbconvert_exporter": "python",
   "pygments_lexer": "ipython3",
   "version": "3.6.7"
  }
 },
 "nbformat": 4,
 "nbformat_minor": 4
}
