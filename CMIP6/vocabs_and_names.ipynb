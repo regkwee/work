{
 "cells": [
  {
   "cell_type": "markdown",
   "metadata": {},
   "source": [
    "# CMIP6 CV info and tools"
   ]
  },
  {
   "cell_type": "markdown",
   "metadata": {},
   "source": [
    "## CMIP6 Conventions\n",
    "\n",
    "- file naming etc.: https://docs.google.com/document/d/1kPQuKJyohCttdqZxzVldOqBUs94hsYer0YphBgWOZUc/edit# \n",
    "- cmip6 data reference vocabs: https://docs.google.com/document/d/1CzTUoX4H2S0XbQUM3_9yKvJ2la7qUExFV7ibGzThmhA/edit\n",
    "        "
   ]
  },
  {
   "cell_type": "markdown",
   "metadata": {},
   "source": [
    "file name template:\n",
    "    \n",
    "    <variable>_<table>_<model>[--<model2>]_<experiment>[-{startdate}][-E{sub-experiment index}]_{ensemble_member}\n",
    "    [_{time_range}][_{processing}].nc, \n",
    "\n",
    "(e.g.,  pr_Amon_myGCM--myIceModel_piControl_r2i1p1f3g0_195001-195912.nc, or\n",
    "        tas_day_anotherGCM_decadal-1961_r1i1p1g0_19610101-19701231.nc).\n"
   ]
  },
  {
   "cell_type": "markdown",
   "metadata": {},
   "source": [
    "### CMIP5 Conventions\n",
    "\n",
    "- cmip5 data reference doc: http://cmip-pcmdi.llnl.gov/cmip5/docs/cmip5_data_reference_syntax.pdf\n",
    "\n",
    "cmip5 (cmor2) directory structure: \n",
    "    \n",
    "    <activity>/<product>/<institute>/<model>/<experiment>/<frequency>/<modeling realm>/<variable name>\n",
    "    /<ensemble member>/\n",
    "    \n",
    "Example:\n",
    "    \n",
    "    /CMIP5/output/MOHC/HadCM3/decadal1990/day/atmos/tas/r3i2p1/\n",
    "    \n",
    "cmip5 esgf directory structure:\n",
    "\n",
    "    <activity>/<product>/<institute>/<model>/<experiment>/<frequency>/<modeling realm>/<MIP table>\n",
    "    /<ensemble member>/<version number>/<variable name>/<CMOR filename>.nc\n",
    "\n",
    "Example:    \n",
    "    \n",
    "    /CMIP5/output1/UKMO/HadCM3/decadal1990/mon/atmos/Amon\n",
    "    /r3i2p1/v20100105/tas/tas_Amon_HADCM3_ decadal1990_r3i2p1_199001-199012.nc\n",
    "    \n",
    "cmip5 file name:\n",
    "\n",
    "      <variable name>_<MIP table>_<model>_<experiment>_<ensemble member>\n",
    "          [_<temporal subset>][_<geographical info>].nc "
   ]
  },
  {
   "cell_type": "code",
   "execution_count": null,
   "metadata": {
    "collapsed": true
   },
   "outputs": [],
   "source": []
  }
 ],
 "metadata": {
  "kernelspec": {
   "display_name": "Python 2",
   "language": "python",
   "name": "python2"
  },
  "language_info": {
   "codemirror_mode": {
    "name": "ipython",
    "version": 2
   },
   "file_extension": ".py",
   "mimetype": "text/x-python",
   "name": "python",
   "nbconvert_exporter": "python",
   "pygments_lexer": "ipython2",
   "version": "2.7.10"
  }
 },
 "nbformat": 4,
 "nbformat_minor": 0
}
