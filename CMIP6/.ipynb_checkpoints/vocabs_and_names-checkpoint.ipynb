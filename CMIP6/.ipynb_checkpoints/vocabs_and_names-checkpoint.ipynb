{
 "cells": [
  {
   "cell_type": "markdown",
   "metadata": {},
   "source": [
    "# CMIP6 CV info and tools"
   ]
  },
  {
   "cell_type": "markdown",
   "metadata": {},
   "source": [
    "## Conventions\n",
    "\n",
    "- file naming etc.: https://docs.google.com/document/d/1kPQuKJyohCttdqZxzVldOqBUs94hsYer0YphBgWOZUc/edit# \n",
    "- cmip6 data reference vocabs: https://docs.google.com/document/d/1CzTUoX4H2S0XbQUM3_9yKvJ2la7qUExFV7ibGzThmhA/edit\n",
    "        "
   ]
  },
  {
   "cell_type": "markdown",
   "metadata": {},
   "source": [
    "file name template:\n",
    "    \n",
    "    <variable>_<table>_<model>[--<model2>]_<experiment>[-{startdate}][-E{sub-experiment index}]_{ensemble_member}\n",
    "    [_{time_range}][_{processing}].nc, \n",
    "\n",
    "(e.g.,  pr_Amon_myGCM--myIceModel_piControl_r2i1p1f3g0_195001-195912.nc, or\n",
    "        tas_day_anotherGCM_decadal-1961_r1i1p1g0_19610101-19701231.nc).\n"
   ]
  },
  {
   "cell_type": "code",
   "execution_count": null,
   "metadata": {
    "collapsed": true
   },
   "outputs": [],
   "source": []
  }
 ],
 "metadata": {
  "kernelspec": {
   "display_name": "Python 2",
   "language": "python",
   "name": "python2"
  },
  "language_info": {
   "codemirror_mode": {
    "name": "ipython",
    "version": 2
   },
   "file_extension": ".py",
   "mimetype": "text/x-python",
   "name": "python",
   "nbconvert_exporter": "python",
   "pygments_lexer": "ipython2",
   "version": "2.7.10"
  }
 },
 "nbformat": 4,
 "nbformat_minor": 0
}
