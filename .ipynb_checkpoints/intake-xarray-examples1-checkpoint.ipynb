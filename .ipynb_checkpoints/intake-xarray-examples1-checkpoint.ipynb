{
 "cells": [
  {
   "cell_type": "markdown",
   "metadata": {},
   "source": [
    "# Xarray / Intake for DKRZ CMIP Datapool\n",
    "\n",
    "- example use case: calculate and visualize precipitation decadal mean\n",
    "- dependencies: netcdf4, intake-esm, cartopy"
   ]
  },
  {
   "cell_type": "code",
   "execution_count": 1,
   "metadata": {},
   "outputs": [],
   "source": [
    "import xarray as xr\n",
    "import cartopy.crs as ccrs\n",
    "import matplotlib.pyplot as plt"
   ]
  },
  {
   "cell_type": "markdown",
   "metadata": {},
   "source": [
    "###  import Intake catalog for DKRZ CMIP6 data pool"
   ]
  },
  {
   "cell_type": "code",
   "execution_count": 2,
   "metadata": {},
   "outputs": [],
   "source": [
    "import intake\n",
    "col_url_cmip6 = \"/work/ik1017/Catalogs/mistral-cmip6.json\"\n",
    "#col_url_cmip5 = \"/work/ik1017/Catalogs/mistral-cmip5.json\"\n",
    "col = intake.open_esm_datastore(col_url_cmip6)"
   ]
  },
  {
   "cell_type": "markdown",
   "metadata": {},
   "source": [
    "### locate precipitation files for specific institution and time-ranges"
   ]
  },
  {
   "cell_type": "code",
   "execution_count": 3,
   "metadata": {},
   "outputs": [],
   "source": [
    "cat = col.search(experiment_id=['ssp370','piControl','historical'], variable_id=['pr'],\n",
    "                 member_id='r1i1p1f1',institution_id=\"MPI-M\",table_id=\"Amon\",time_range=['207501-209412','269001-270912','195001-196912'])"
   ]
  },
  {
   "cell_type": "code",
   "execution_count": 4,
   "metadata": {},
   "outputs": [
    {
     "data": {
      "text/plain": [
       "mistral-cmip6-ESM Collection with 4 entries:\n",
       "\t> 2 activity_id(s)\n",
       "\n",
       "\t> 1 institution_id(s)\n",
       "\n",
       "\t> 1 source_id(s)\n",
       "\n",
       "\t> 3 experiment_id(s)\n",
       "\n",
       "\t> 1 member_id(s)\n",
       "\n",
       "\t> 1 table_id(s)\n",
       "\n",
       "\t> 1 variable_id(s)\n",
       "\n",
       "\t> 1 grid_label(s)\n",
       "\n",
       "\t> 0 dcpp_init_year(s)\n",
       "\n",
       "\t> 1 version(s)\n",
       "\n",
       "\t> 3 time_range(s)\n",
       "\n",
       "\t> 4 path(s)"
      ]
     },
     "execution_count": 4,
     "metadata": {},
     "output_type": "execute_result"
    }
   ],
   "source": [
    "cat"
   ]
  },
  {
   "cell_type": "code",
   "execution_count": null,
   "metadata": {},
   "outputs": [],
   "source": [
    "cat.df.columns"
   ]
  },
  {
   "cell_type": "code",
   "execution_count": null,
   "metadata": {},
   "outputs": [],
   "source": [
    "cat.df"
   ]
  },
  {
   "cell_type": "markdown",
   "metadata": {},
   "source": [
    "### open selected files to process and visualize"
   ]
  },
  {
   "cell_type": "code",
   "execution_count": null,
   "metadata": {},
   "outputs": [],
   "source": [
    "fssp=cat.df['path'][3]\n",
    "fpiC=cat.df['path'][0]\n",
    "fhis=cat.df['path'][2]\n",
    "print(fssp, fpiC,fhis)\n",
    "\n",
    "ds_ssp=xr.open_dataset(fssp)\n",
    "ds_his=xr.open_dataset(fhis)\n",
    "ds_pi=xr.open_dataset(fpiC)"
   ]
  },
  {
   "cell_type": "code",
   "execution_count": null,
   "metadata": {},
   "outputs": [],
   "source": [
    "ds_ssp.pr.sel(time='2075-01')"
   ]
  },
  {
   "cell_type": "code",
   "execution_count": null,
   "metadata": {},
   "outputs": [],
   "source": [
    "# plot\n",
    "\n",
    "\n",
    "# chose one of the ds\n",
    "lons = ds_ssp['lon']\n",
    "lats = ds_ssp['lat'] #x\n",
    "\n",
    "\n",
    "fig = plt.figure(figsize=(10, 4))\n",
    "ax = plt.axes(projection=ccrs.PlateCarree())\n",
    "ax.coastlines()\n",
    "\n",
    "# so mittelt man ueber die ersten 10 Jahre\n",
    "pr10=ds_his['pr'].isel(time=slice(0,10*12)).mean('time')\n",
    "\n",
    "# so berechnet man den MW der 10 Jahre rueckwaerts von 240 Zeitschritten\n",
    "pr10end=ds_ssp['pr'].isel(time=slice(240-10*12,240)).mean('time')\n",
    "\n",
    "# difference \n",
    "prdiff = pr10 - pr10end\n",
    "\n",
    "# argumente: countourf(x, y, z, zbins, \n",
    "p = plt.contourf(lons, lats, prdiff, 20,\n",
    "            # transform of the projection, color map = red/blue scale for color blinds\n",
    "               transform=ccrs.PlateCarree(), cmap='RdBu')\n",
    "\n",
    "\n",
    "# -- label\n",
    "ax.set_xlabel('Longitude')\n",
    "ax.set_ylabel('Lattitude')\n",
    "\n",
    "# -- per Hand\n",
    "ax.set_xticks([-180,-120,-60,0,60,120,180])\n",
    "ax.set_yticks([-90,-60,-30,0,30,60,90])\n",
    "\n",
    "# -- statt der letzten 4 code zeilen, sind eine hübschere Alternative\n",
    "\n",
    "\n",
    "# draw colorbar\n",
    "c = plt.colorbar(p)\n",
    "\n",
    "#print(ds_his['pr'].attrs['units'])\n",
    "\n",
    "# for plot title\n",
    "plottitle = ds_his['pr'].attrs['long_name']\n",
    "c.ax.set_ylabel(plottitle + ' ['+ ds_his['pr'].attrs['units'] +']')\n",
    "\n",
    "# string datetime\n",
    "strdt =' \\n2085-2094 (ssp370) to 1950-1959 (historical)'  \n",
    "pname = plottitle + ' decadisches Mittel prdiff '+ strdt \n",
    "\n",
    "plt.title(pname)\n",
    "\n",
    "# save before show()\n",
    "pname='/tmp/c.png'\n",
    "plt.savefig(pname)\n",
    "plt.show()"
   ]
  },
  {
   "cell_type": "code",
   "execution_count": null,
   "metadata": {},
   "outputs": [],
   "source": [
    "# plot\n",
    "\n",
    "\n",
    "# chose one of the ds\n",
    "lons = ds_ssp['lon']\n",
    "lats = ds_ssp['lat'] #x\n",
    "\n",
    "\n",
    "fig = plt.figure(figsize=(10, 4))\n",
    "ax = plt.axes(projection=ccrs.PlateCarree())\n",
    "ax.coastlines()\n",
    "\n",
    "# so mittelt man ueber die ersten 10 Jahre\n",
    "pr10=ds_pi['pr'].isel(time=slice(0,10*12)).mean('time')\n",
    "\n",
    "# so berechnet man den MW der 10 Jahre rueckwaerts von 240 Zeitschritten\n",
    "pr10end=ds_ssp['pr'].isel(time=slice(240-10*12,240)).mean('time')\n",
    "\n",
    "# difference \n",
    "prdiff = pr10 - pr10end\n",
    "\n",
    "# argumente: countourf(x, y, z, zbins, \n",
    "p = plt.contourf(lons, lats, prdiff, 20,\n",
    "            # transform of the projection, color map = red/blue scale for color blinds\n",
    "               transform=ccrs.PlateCarree(), cmap='RdBu')\n",
    "\n",
    "\n",
    "# -- label\n",
    "ax.set_xlabel('Longitude')\n",
    "ax.set_ylabel('Lattitude')\n",
    "\n",
    "# -- per Hand\n",
    "ax.set_xticks([-180,-120,-60,0,60,120,180])\n",
    "ax.set_yticks([-90,-60,-30,0,30,60,90])\n",
    "\n",
    "# -- statt der letzten 4 code zeilen, sind eine hübschere Alternative\n",
    "\n",
    "\n",
    "# draw colorbar\n",
    "c = plt.colorbar(p)\n",
    "\n",
    "#print(ds_pi['pr'].attrs['units'])\n",
    "\n",
    "# for plot title\n",
    "plottitle = ds_pi['pr'].attrs['long_name']\n",
    "c.ax.set_ylabel(plottitle + ' ['+ ds_pi['pr'].attrs['units'] +']')\n",
    "\n",
    "# string datetime\n",
    "strdt =' \\n2085-2094 (ssp370) to 1950-1959 (piControl)'  \n",
    "pname = plottitle + ' decadisches Mittel prdiff '+ strdt \n",
    "\n",
    "plt.title(pname)\n",
    "\n",
    "# save before show()\n",
    "pname='/tmp/c.png'\n",
    "plt.savefig(pname)\n",
    "plt.show()"
   ]
  },
  {
   "cell_type": "code",
   "execution_count": null,
   "metadata": {},
   "outputs": [],
   "source": []
  }
 ],
 "metadata": {
  "kernelspec": {
   "display_name": "Python 3",
   "language": "python",
   "name": "python3"
  },
  "language_info": {
   "codemirror_mode": {
    "name": "ipython",
    "version": 3
   },
   "file_extension": ".py",
   "mimetype": "text/x-python",
   "name": "python",
   "nbconvert_exporter": "python",
   "pygments_lexer": "ipython3",
   "version": "3.7.6"
  }
 },
 "nbformat": 4,
 "nbformat_minor": 4
}
